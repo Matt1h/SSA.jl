{
 "cells": [
  {
   "cell_type": "markdown",
   "source": [
    "# Example\n",
    "Lets try to find a sparse representation for a matrix, so that the Frobeniusnorm of the difference\n",
    "is as small as possible.\n",
    "Lets consider a symmetric matrix $M$:"
   ],
   "metadata": {}
  },
  {
   "outputs": [
    {
     "output_type": "execute_result",
     "data": {
      "text/plain": "5×5 Matrix{Float64}:\n 17.05  16.98    0.3     6.99   7.0\n 16.98   0.2     7.1     6.9    0.0\n  0.3    7.1   -12.0     0.01  17.0\n  6.99   6.9     0.01  -11.97   0.0\n  7.0    0.0    17.0     0.0   -0.1"
     },
     "metadata": {},
     "execution_count": 1
    }
   ],
   "cell_type": "code",
   "source": [
    "using SubspacePreservingSparsification\n",
    "using SparseArrays\n",
    "using LinearAlgebra\n",
    "M = [17.05 16.98 0.3 6.99 7; 16.98 0.2 7.1 6.9 0; 0.3 7.1 -12 0.01 17; 6.99 6.9 0.01 -11.97 0; 7 0 17 0 -0.1]"
   ],
   "metadata": {},
   "execution_count": 1
  },
  {
   "cell_type": "markdown",
   "source": [
    "First we calculate a sparsity pattern:"
   ],
   "metadata": {}
  },
  {
   "outputs": [
    {
     "output_type": "execute_result",
     "data": {
      "text/plain": "5×5 SparseArrays.SparseMatrixCSC{Int64, Int64} with 13 stored entries:\n 1  1  ⋅  1  ⋅\n 1  ⋅  1  1  ⋅\n ⋅  1  1  ⋅  1\n 1  1  ⋅  1  ⋅\n ⋅  ⋅  1  ⋅  ⋅"
     },
     "metadata": {},
     "execution_count": 2
    }
   ],
   "cell_type": "code",
   "source": [
    "M_id = sparsity_pattern(M, 0.6, 2)"
   ],
   "metadata": {},
   "execution_count": 2
  },
  {
   "cell_type": "markdown",
   "source": [
    "For every column and every row of the Matrix the function solves the optimization problem\n",
    "$$\n",
    "max_{Z}\\, ||x - x\\circ Z(x)||_{0}\\,\\, s.t. \\\\\n",
    "$$\n",
    "$$\n",
    "\\begin{align*}\n",
    "(Z(x))_{i} &= 0 \\, \\text{or}\\, 1 \\\\\n",
    "||Z(x)||_{0} &\\ge N \\\\\n",
    "||x - x\\circ Z(x)||_{p} \t\\,&\\le\\,  (1-q)||x||_{p},\n",
    "\\end{align*}\n",
    "$$\n",
    "where $Z$ is the sparsity pattern for the column or row. $N$ is a maximum number for non zero entries,\n",
    "$q$ is a factor that controls how sparse the the row or column should be. All the individual row and column\n",
    "patter are overlayed, if either row or column or both return a one for an entry the entry is one.\n",
    "This ensures that the pattern will preserve different Subspaces of the Matrix."
   ],
   "metadata": {}
  },
  {
   "cell_type": "markdown",
   "source": [
    "Than we can take the sparsity pattern and modify it to a binning pattern:"
   ],
   "metadata": {}
  },
  {
   "outputs": [
    {
     "output_type": "execute_result",
     "data": {
      "text/plain": "5×5 SparseArrays.SparseMatrixCSC{Int64, Int64} with 13 stored entries:\n 1  1  ⋅  2  ⋅\n 1  ⋅  3  2  ⋅\n ⋅  3  4  ⋅  1\n 2  2  ⋅  4  ⋅\n ⋅  ⋅  1  ⋅  ⋅"
     },
     "metadata": {},
     "execution_count": 3
    }
   ],
   "cell_type": "code",
   "source": [
    "bin_sparse_matrix!(M, M_id, 200)"
   ],
   "metadata": {},
   "execution_count": 3
  },
  {
   "cell_type": "markdown",
   "source": [
    "The function looks at the maximum and minimum values of the matrix and then finds a partition\n",
    "of the negative and positive area according to the specified maximum number of bins.\n",
    "For each entry of the matrix it is checked to which bin it belongs to. The binning controls the\n",
    "number of unknowns and so the computation cost to solve the optimization problem. It also typically\n",
    "improves the conditioning of the optimization problem."
   ],
   "metadata": {}
  },
  {
   "cell_type": "markdown",
   "source": [
    "With the binning pattern we can find the Matrix so that the norm of the difference\n",
    "is as small as possible and so that the binning constrains are fullfilled:"
   ],
   "metadata": {}
  },
  {
   "outputs": [
    {
     "output_type": "execute_result",
     "data": {
      "text/plain": "5×5 SparseArrays.SparseMatrixCSC{Float64, Int64} with 13 stored entries:\n 17.002  17.002     ⋅       6.945    ⋅ \n 17.002    ⋅       7.1      6.945    ⋅ \n   ⋅      7.1    -11.985     ⋅     17.002\n  6.945   6.945     ⋅     -11.985    ⋅ \n   ⋅       ⋅      17.002     ⋅       ⋅ "
     },
     "metadata": {},
     "execution_count": 4
    }
   ],
   "cell_type": "code",
   "source": [
    "binned_minimization(M_id, zeros(5, 5), Matrix{Float64}(I, 5, 5), M)"
   ],
   "metadata": {},
   "execution_count": 4
  },
  {
   "cell_type": "markdown",
   "source": [
    "The function solves the optimization problem\n",
    "$$\n",
    "min ||M - X||_{F} \\,\\, s.t.\n",
    "$$\n",
    "$$\n",
    "X\\, \\text{has the specified sparsity pattern}\\, B(M) = M_{id}\n",
    "$$\n",
    "Of course our example optimization problem is not too interesting, because without the binning\n",
    "only some entries are set to zero, while the others remain the same. However,\n",
    "more sophisticated optimization problems can be used here."
   ],
   "metadata": {}
  },
  {
   "cell_type": "markdown",
   "source": [
    "We can also use the sparsify function on $M$:"
   ],
   "metadata": {}
  },
  {
   "outputs": [
    {
     "output_type": "execute_result",
     "data": {
      "text/plain": "5×5 SparseArrays.SparseMatrixCSC{Float64, Int64} with 13 stored entries:\n 13.7521   13.7521      ⋅         5.85139    ⋅ \n 13.7521     ⋅         5.24934    5.85139    ⋅ \n   ⋅        5.24934  -10.7842      ⋅       13.7521\n  5.85139   5.85139     ⋅       -10.7842     ⋅ \n   ⋅         ⋅        13.7521      ⋅         ⋅ "
     },
     "metadata": {},
     "execution_count": 5
    }
   ],
   "cell_type": "code",
   "source": [
    "sparsify(M, 0.6, 2, 200)"
   ],
   "metadata": {},
   "execution_count": 5
  },
  {
   "cell_type": "markdown",
   "source": [
    "This function calculates the sparsity and binning pattern like we did and uses as optimization problem"
   ],
   "metadata": {}
  },
  {
   "cell_type": "markdown",
   "source": [
    "$$\n",
    "\\min\\limits_{X} \\frac{1}{2} \\sum\\limits_{i=1}^r \\frac{1}{\\sigma_i^2} ||\\left( X - M\\right) v_i||_2^2\n",
    "+ \\frac{1}{2} \\sum\\limits_{i=1}^r \\frac{1}{\\sigma_i^2} ||\\left( X^* - M^*\\right) u_i||_2^2,\n",
    "$$"
   ],
   "metadata": {}
  },
  {
   "cell_type": "markdown",
   "source": [
    "where $r$ is the rank, $\\sigma_i$ are the $r$ biggest singular values, $v_i$ the corresponding right singular vectors and $u_i$\n",
    "the corresponding left singular vectors of $M$. $M^*$ denotes the conjugate transpose of $M$. The function compares the action of\n",
    "the unknown matrix $X$ with the action of $M$ on the singular vectors of $M$ and penalizes the differences in near null-space with\n",
    "larger weights. It can be formulatet in the form"
   ],
   "metadata": {}
  },
  {
   "cell_type": "markdown",
   "source": [
    "$$\n",
    "X M^+(M^+)^* + (M^+)^*M^+X = MM^+(M^+)^* (M^+)^*M^+M,\n",
    "$$"
   ],
   "metadata": {}
  },
  {
   "cell_type": "markdown",
   "source": [
    "where $M^+$ is the pseudo inverse of $M$.\n",
    "We can also set `impose_null_spaces` true:"
   ],
   "metadata": {}
  },
  {
   "outputs": [
    {
     "output_type": "execute_result",
     "data": {
      "text/plain": "5×5 SparseArrays.SparseMatrixCSC{Float64, Int64} with 13 stored entries:\n 13.7521   13.7521      ⋅         5.85139    ⋅ \n 13.7521     ⋅         5.24934    5.85139    ⋅ \n   ⋅        5.24934  -10.7842      ⋅       13.7521\n  5.85139   5.85139     ⋅       -10.7842     ⋅ \n   ⋅         ⋅        13.7521      ⋅         ⋅ "
     },
     "metadata": {},
     "execution_count": 6
    }
   ],
   "cell_type": "code",
   "source": [
    "sparsify(M, 0.6, 2, 200, impose_null_spaces=true)"
   ],
   "metadata": {},
   "execution_count": 6
  },
  {
   "cell_type": "markdown",
   "source": [
    "Then after the described optimization problem was solved the function also solves an additional optimization problem that\n",
    "ensures that the left and right null-spaces are preserved exactly. Because our matrix has full rank this makes no difference in our case."
   ],
   "metadata": {}
  },
  {
   "cell_type": "markdown",
   "source": [
    "---\n",
    "\n",
    "*This notebook was generated using [Literate.jl](https://github.com/fredrikekre/Literate.jl).*"
   ],
   "metadata": {}
  }
 ],
 "nbformat_minor": 3,
 "metadata": {
  "language_info": {
   "file_extension": ".jl",
   "mimetype": "application/julia",
   "name": "julia",
   "version": "1.7.1"
  },
  "kernelspec": {
   "name": "julia-1.7",
   "display_name": "Julia 1.7.1",
   "language": "julia"
  }
 },
 "nbformat": 4
}
